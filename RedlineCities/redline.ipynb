{
 "cells": [
  {
   "cell_type": "markdown",
   "metadata": {},
   "source": [
    "This script is intended to search through data on redlining within the \n",
    "United States of America, and return relevant data based on search query"
   ]
  },
  {
   "cell_type": "code",
   "execution_count": null,
   "metadata": {},
   "outputs": [],
   "source": [
    "# imports\n",
    "import pandas as pd\n",
    "\n",
    "# dataframe\n",
    "df = pd.read_csv('redlinedCities.csv')"
   ]
  },
  {
   "cell_type": "code",
   "execution_count": null,
   "metadata": {},
   "outputs": [],
   "source": [
    "# search functions\n",
    "# state search\n",
    "def state_search():\n",
    "    print(\"\\nYou chose: state search\")\n",
    "    state = input(\"What state do you want to search for? (Abbreviation only) press 'enter' to exit\\n\")\n",
    "    if state == ():\n",
    "        exit\n",
    "    else:\n",
    "        print(df[df[\"state\"] == state])\n",
    "# city search\n",
    "def city_search():\n",
    "    print(\"\\nYou chose: city search\")\n",
    "    city = input(\"What city do you want to search for? press 'enter' to exit\\n\")\n",
    "    if city == ():\n",
    "        exit\n",
    "    else:\n",
    "        print(df[df[\"city\"] == city])\n",
    "# year search\n",
    "def year_search():\n",
    "    print(\"\\nYou chose: year search\")\n",
    "    year = input(\"What year do you want to search for? press 'enter' to exit\\n\")\n",
    "    if year == ():\n",
    "        exit\n",
    "    else:\n",
    "        print(df[df[\"year\"] == year])"
   ]
  },
  {
   "cell_type": "code",
   "execution_count": null,
   "metadata": {},
   "outputs": [],
   "source": [
    "# search type\n",
    "def search_type(type):\n",
    "    match type:\n",
    "        case \"state\":\n",
    "            state_search()\n",
    "        case \"State\":\n",
    "            state_search()\n",
    "        case \"City\":\n",
    "            city_search()\n",
    "        case \"city\":\n",
    "            city_search()\n",
    "        case \"year\":\n",
    "            year_search()\n",
    "        case \"Year\":\n",
    "            year_search()\n",
    "        case _: \n",
    "            return \"Unable to search for that category\""
   ]
  },
  {
   "cell_type": "code",
   "execution_count": 30,
   "metadata": {},
   "outputs": [],
   "source": [
    "# main\n",
    "n = 0\n",
    "while n == 0:\n",
    "    type = input(\"What category do you want to search for?\\n(Options: state, city, year) type 'exit' to exit\\n\\n\")\n",
    "    if type == ('exit'):\n",
    "        n = 1\n",
    "    search_type(type)"
   ]
  }
 ],
 "metadata": {
  "interpreter": {
   "hash": "ceff19bbfc6278f7126076a758f08c62219d554ef9552366d6095648cbd0486b"
  },
  "kernelspec": {
   "display_name": "Python 3.10.1 64-bit",
   "language": "python",
   "name": "python3"
  },
  "language_info": {
   "codemirror_mode": {
    "name": "ipython",
    "version": 3
   },
   "file_extension": ".py",
   "mimetype": "text/x-python",
   "name": "python",
   "nbconvert_exporter": "python",
   "pygments_lexer": "ipython3",
   "version": "3.10.1"
  },
  "orig_nbformat": 4
 },
 "nbformat": 4,
 "nbformat_minor": 2
}
