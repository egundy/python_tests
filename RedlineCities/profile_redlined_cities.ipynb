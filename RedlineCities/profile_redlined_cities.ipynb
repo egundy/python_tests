{
 "cells": [
  {
   "cell_type": "code",
   "execution_count": null,
   "metadata": {},
   "outputs": [],
   "source": [
    "import pandas as pd\n",
    "import numpy as np"
   ]
  },
  {
   "cell_type": "code",
   "execution_count": null,
   "metadata": {},
   "outputs": [],
   "source": [
    "df = pd.read_csv('redlined_cities.csv')"
   ]
  },
  {
   "cell_type": "code",
   "execution_count": null,
   "metadata": {},
   "outputs": [],
   "source": [
    "df.describe(include='all')"
   ]
  },
  {
   "cell_type": "code",
   "execution_count": null,
   "metadata": {},
   "outputs": [],
   "source": [
    "df.isnull().sum().sum()"
   ]
  },
  {
   "cell_type": "code",
   "execution_count": 15,
   "metadata": {},
   "outputs": [
    {
     "data": {
      "text/html": [
       "<div>\n",
       "<style scoped>\n",
       "    .dataframe tbody tr th:only-of-type {\n",
       "        vertical-align: middle;\n",
       "    }\n",
       "\n",
       "    .dataframe tbody tr th {\n",
       "        vertical-align: top;\n",
       "    }\n",
       "\n",
       "    .dataframe thead th {\n",
       "        text-align: right;\n",
       "    }\n",
       "</style>\n",
       "<table border=\"1\" class=\"dataframe\">\n",
       "  <thead>\n",
       "    <tr style=\"text-align: right;\">\n",
       "      <th></th>\n",
       "      <th>city</th>\n",
       "      <th>city_id</th>\n",
       "      <th>state</th>\n",
       "      <th>year</th>\n",
       "      <th>form_id</th>\n",
       "    </tr>\n",
       "  </thead>\n",
       "  <tbody>\n",
       "    <tr>\n",
       "      <th>205</th>\n",
       "      <td>Syracuse</td>\n",
       "      <td>108</td>\n",
       "      <td>NY</td>\n",
       "      <td>1937</td>\n",
       "      <td>1939.0</td>\n",
       "    </tr>\n",
       "    <tr>\n",
       "      <th>206</th>\n",
       "      <td>Denver</td>\n",
       "      <td>23</td>\n",
       "      <td>CO</td>\n",
       "      <td>1938</td>\n",
       "      <td>19371001.0</td>\n",
       "    </tr>\n",
       "    <tr>\n",
       "      <th>207</th>\n",
       "      <td>Everett</td>\n",
       "      <td>273</td>\n",
       "      <td>MA</td>\n",
       "      <td>NaN</td>\n",
       "      <td>19371001.0</td>\n",
       "    </tr>\n",
       "    <tr>\n",
       "      <th>208</th>\n",
       "      <td>Arlington</td>\n",
       "      <td>265</td>\n",
       "      <td>MA</td>\n",
       "      <td>1939</td>\n",
       "      <td>19371001.0</td>\n",
       "    </tr>\n",
       "    <tr>\n",
       "      <th>209</th>\n",
       "      <td>York</td>\n",
       "      <td>142</td>\n",
       "      <td>PA</td>\n",
       "      <td>NaN</td>\n",
       "      <td>9675.0</td>\n",
       "    </tr>\n",
       "  </tbody>\n",
       "</table>\n",
       "</div>"
      ],
      "text/plain": [
       "          city  city_id state  year     form_id\n",
       "205   Syracuse      108    NY  1937      1939.0\n",
       "206     Denver       23    CO  1938  19371001.0\n",
       "207    Everett      273    MA   NaN  19371001.0\n",
       "208  Arlington      265    MA  1939  19371001.0\n",
       "209       York      142    PA   NaN      9675.0"
      ]
     },
     "execution_count": 15,
     "metadata": {},
     "output_type": "execute_result"
    }
   ],
   "source": [
    "df.tail()"
   ]
  },
  {
   "cell_type": "code",
   "execution_count": 30,
   "metadata": {},
   "outputs": [
    {
     "data": {
      "text/html": [
       "<div>\n",
       "<style scoped>\n",
       "    .dataframe tbody tr th:only-of-type {\n",
       "        vertical-align: middle;\n",
       "    }\n",
       "\n",
       "    .dataframe tbody tr th {\n",
       "        vertical-align: top;\n",
       "    }\n",
       "\n",
       "    .dataframe thead th {\n",
       "        text-align: right;\n",
       "    }\n",
       "</style>\n",
       "<table border=\"1\" class=\"dataframe\">\n",
       "  <thead>\n",
       "    <tr style=\"text-align: right;\">\n",
       "      <th></th>\n",
       "      <th>city</th>\n",
       "      <th>city_id</th>\n",
       "      <th>state</th>\n",
       "      <th>year</th>\n",
       "      <th>form_id</th>\n",
       "    </tr>\n",
       "  </thead>\n",
       "  <tbody>\n",
       "    <tr>\n",
       "      <th>48</th>\n",
       "      <td>Minneapolis</td>\n",
       "      <td>81</td>\n",
       "      <td>MN</td>\n",
       "      <td>1937</td>\n",
       "      <td>1.0</td>\n",
       "    </tr>\n",
       "    <tr>\n",
       "      <th>79</th>\n",
       "      <td>Rochester</td>\n",
       "      <td>82</td>\n",
       "      <td>MN</td>\n",
       "      <td>NaN</td>\n",
       "      <td>0.0</td>\n",
       "    </tr>\n",
       "    <tr>\n",
       "      <th>112</th>\n",
       "      <td>St. Paul</td>\n",
       "      <td>83</td>\n",
       "      <td>MN</td>\n",
       "      <td>NaN</td>\n",
       "      <td>1.0</td>\n",
       "    </tr>\n",
       "    <tr>\n",
       "      <th>176</th>\n",
       "      <td>Duluth</td>\n",
       "      <td>80</td>\n",
       "      <td>MN</td>\n",
       "      <td>1936</td>\n",
       "      <td>1.0</td>\n",
       "    </tr>\n",
       "  </tbody>\n",
       "</table>\n",
       "</div>"
      ],
      "text/plain": [
       "            city  city_id state  year  form_id\n",
       "48   Minneapolis       81    MN  1937      1.0\n",
       "79     Rochester       82    MN   NaN      0.0\n",
       "112     St. Paul       83    MN   NaN      1.0\n",
       "176       Duluth       80    MN  1936      1.0"
      ]
     },
     "execution_count": 30,
     "metadata": {},
     "output_type": "execute_result"
    }
   ],
   "source": [
    "df[df[\"state\"] == \"MN\"]"
   ]
  },
  {
   "cell_type": "code",
   "execution_count": 43,
   "metadata": {},
   "outputs": [],
   "source": [
    "def is_redlined():\n",
    "    state = input(\"What state do you want to search for?  \\n\")\n",
    "    print(df[df['state'] == state])\n",
    "    "
   ]
  },
  {
   "cell_type": "code",
   "execution_count": 44,
   "metadata": {},
   "outputs": [
    {
     "name": "stdout",
     "output_type": "stream",
     "text": [
      "            city  city_id state  year     form_id\n",
      "18   Port Arthur      159    TX   NaN         NaN\n",
      "103       Austin      246    TX  19xx         0.0\n",
      "119       Dallas      154    TX  1937  19371001.0\n",
      "121         Waco      161    TX   NaN         NaN\n",
      "125     Amarillo      151    TX   NaN         NaN\n",
      "126      Houston      158    TX   NaN         NaN\n",
      "127    Galveston      157    TX   NaN         NaN\n",
      "128   Fort Worth      156    TX   NaN         NaN\n",
      "166  San Antonio      160    TX   NaN         NaN\n",
      "168      El Paso      155    TX  1936         1.0\n",
      "169     Beaumont      153    TX   NaN         NaN\n"
     ]
    }
   ],
   "source": [
    "is_redlined()"
   ]
  }
 ],
 "metadata": {
  "interpreter": {
   "hash": "ceff19bbfc6278f7126076a758f08c62219d554ef9552366d6095648cbd0486b"
  },
  "kernelspec": {
   "display_name": "Python 3.10.1 64-bit",
   "language": "python",
   "name": "python3"
  },
  "language_info": {
   "codemirror_mode": {
    "name": "ipython",
    "version": 3
   },
   "file_extension": ".py",
   "mimetype": "text/x-python",
   "name": "python",
   "nbconvert_exporter": "python",
   "pygments_lexer": "ipython3",
   "version": "3.10.1"
  },
  "orig_nbformat": 4
 },
 "nbformat": 4,
 "nbformat_minor": 2
}
